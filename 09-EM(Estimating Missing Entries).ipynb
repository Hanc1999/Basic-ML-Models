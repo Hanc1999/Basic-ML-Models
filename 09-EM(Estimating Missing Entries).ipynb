{
 "cells": [
  {
   "cell_type": "code",
   "execution_count": 285,
   "metadata": {},
   "outputs": [],
   "source": [
    "import numpy as np \n",
    "from functools import reduce\n",
    "import matplotlib.pyplot as plt"
   ]
  },
  {
   "cell_type": "markdown",
   "metadata": {},
   "source": [
    "The framework of this code is provided by CUHKSZ CSC4020 course"
   ]
  },
  {
   "cell_type": "markdown",
   "metadata": {},
   "source": [
    "## 1. Generate Data and Mask"
   ]
  },
  {
   "cell_type": "code",
   "execution_count": 601,
   "metadata": {},
   "outputs": [],
   "source": [
    "def ifAnyAllMissed(mask):\n",
    "    tmp = np.where(sum(mask.T) == 0)[0]\n",
    "    if(len(tmp)) == 0:\n",
    "        return False\n",
    "    return True\n",
    "\n",
    "def mask(X, missingRate):\n",
    "    # assume X in np.array\n",
    "    rowNum, colNum = X.shape\n",
    "    mask = np.random.random(rowNum*colNum).reshape(rowNum,colNum) > missingRate\n",
    "    while(ifAnyAllMissed(mask)):\n",
    "        mask = np.random.random(rowNum*colNum).reshape(rowNum,colNum) > missingRate\n",
    "    return mask\n",
    "\n",
    "def dataGenerate(missingRate):\n",
    "    ###set u and sigma\n",
    "#     np.random.seed(1054) # for debug\n",
    "    mu = np.array([0, 1, 2,4,8,10,20,50,80,100])\n",
    "    Sigma=np.array([[10,4,8,4,10,4,4,0,6,8],\n",
    "                    [ 4,6,2,4,6,4,4,2,2,4],\n",
    "                    [ 8,2,10,4,10,6,2,0,4,8],\n",
    "                    [ 4,4,4,8,6,8,4,4,2,6],\n",
    "                    [10,6,10,6,18,10,8,4,8,12],\n",
    "                    [ 4,4,6,8,10,12,6,6,4,8],\n",
    "                    [ 4,4,2,4, 8, 6,8,4,6,4],\n",
    "                    [ 0,2,0,4, 4, 6,4,6,2,2],\n",
    "                    [ 6,2,4,2, 8, 4,6,2,8,4],\n",
    "                    [ 8,4,8,6, 12,8,4,2,4,14]])\n",
    "    ### generate true data\n",
    "    n = 3000\n",
    "    X_truth = np.random.multivariate_normal(mu, Sigma, n)\n",
    "    rowNum, colNum = X_truth.shape\n",
    "    ### generate in_c data:\n",
    "    a_mask = mask(X_truth, missingRate)\n",
    "    X_inc = X_truth.copy()\n",
    "    X_inc[a_mask == False] = np.nan\n",
    "    tru_missingRate = np.sum(X_inc == False)/(rowNum*colNum)\n",
    "    ### return: [X_truth, X_inc, miss rate, real miss rate]\n",
    "    return X_truth, X_inc, missingRate, tru_missingRate, a_mask, mu, Sigma"
   ]
  },
  {
   "cell_type": "code",
   "execution_count": 602,
   "metadata": {},
   "outputs": [
    {
     "data": {
      "text/plain": [
       "array([         nan,          nan,          nan,   1.50197643,\n",
       "                nan,  10.68919903,  19.18622235,  48.11563711,\n",
       "        83.10873073, 100.58626406])"
      ]
     },
     "execution_count": 602,
     "metadata": {},
     "output_type": "execute_result"
    }
   ],
   "source": [
    "# sample\n",
    "dataGenerate(0.4)[1][2]"
   ]
  },
  {
   "cell_type": "markdown",
   "metadata": {},
   "source": [
    "## 2. Model Construction"
   ]
  },
  {
   "cell_type": "code",
   "execution_count": 660,
   "metadata": {},
   "outputs": [],
   "source": [
    "def em(missingRate, maxItrNum = 3000, eps = 1e-05):\n",
    "    ### returned: [X_truth, X_inc, miss rate, real miss rate]\n",
    "    X_truth, X_inc, _, tru_missingRate, a_mask, mu_truth, Sigma_truth = wholeData = dataGenerate(missingRate)\n",
    "    rowNum, colNum = X_inc.shape\n",
    "    Mu_truth = np.mean(X_truth,axis=0)\n",
    "    Sigma_truth = np.cov(X_truth.T)\n",
    "    ### hidden or visible\n",
    "    aRange = np.array(range(1, 11, 1))\n",
    "    hidden = aRange*(a_mask == False)-1\n",
    "    visible = aRange*(a_mask)-1\n",
    "    ### generate initial paras\n",
    "    Mu = np.nanmean(X_inc, axis=0)\n",
    "    c_rows_indices = np.where(np.isnan(sum(X_inc.T)) == False)[0]\n",
    "    Sigma = np.cov(X_inc[c_rows_indices].T)\n",
    "#     print(np.array([[round(ele2,1) for ele2 in ele] for ele in Sigma]))\n",
    "\n",
    "    if np.isnan(Sigma).any():\n",
    "        Sigma = np.diag(np.nanvar(X_inc, axis=0))\n",
    "    ### iterations\n",
    "    Mu_all = {}\n",
    "    Sigma_all = {}\n",
    "    X_now = X_inc.copy()\n",
    "    convFlag = False\n",
    "    his = []\n",
    "    print('Model With MR=',missingRate,\" : \",end=\"\")\n",
    "    for i in range(maxItrNum):\n",
    "        if i % 5 == 0: print('|',end=\"\")\n",
    "        if convFlag: break\n",
    "        for r in range(rowNum):\n",
    "            Sigma_all[r] = np.zeros(colNum**2).reshape(colNum,colNum)\n",
    "            if -1 in visible[r]:\n",
    "                hidden_i = [ele for ele in hidden[r] if ele != -1]\n",
    "                visible_i = [ele for ele in visible[r] if ele != -1]\n",
    "                Sigma_hh_i = Sigma[np.ix_(hidden_i,hidden_i)]\n",
    "                Sigma_hv_i = Sigma[np.ix_(hidden_i,visible_i)]\n",
    "                Sigma_vh_i = Sigma[np.ix_(visible_i,hidden_i)]\n",
    "                Sigma_vv_i = Sigma[np.ix_(visible_i,visible_i)]\n",
    "                ## according to the conditional p rule\n",
    "                \n",
    "                Mu_all[r] = Mu[np.ix_(hidden_i)]+Sigma_hv_i.dot(np.linalg.inv(Sigma_vv_i)).dot(X_now[r, visible_i]-Mu[np.ix_(visible_i)])\n",
    "                X_now[r, hidden_i] = Mu_all[r]\n",
    "                Sigma_all[r][np.ix_(hidden_i,hidden_i)]=Sigma_hh_i - Sigma_hv_i.dot(np.linalg.inv(Sigma_vv_i)).dot(Sigma_vh_i)\n",
    "                \n",
    "        Mu_new = np.mean(X_now, axis=0)\n",
    "        Sigma_new = np.cov(X_now.T, bias = 1) + reduce(np.add, Sigma_all.values()) / rowNum\n",
    "        convFlag = np.linalg.norm(Mu-Mu_new) <= eps and np.linalg.norm(Sigma-Sigma_new, ord = 2) <= eps\n",
    "        if(convFlag): print('done')\n",
    "        Mu = Mu_new\n",
    "        Sigma = Sigma_new\n",
    "        his.append(np.linalg.norm(Sigma-Sigma_truth))\n",
    "    res = [Mu, Sigma, his, i, Mu_truth, Sigma_truth]\n",
    "    return res "
   ]
  },
  {
   "cell_type": "markdown",
   "metadata": {},
   "source": [
    "## 3. Experiment"
   ]
  },
  {
   "cell_type": "markdown",
   "metadata": {},
   "source": [
    "#### 3.1 MR = 0.4"
   ]
  },
  {
   "cell_type": "code",
   "execution_count": 613,
   "metadata": {},
   "outputs": [
    {
     "name": "stdout",
     "output_type": "stream",
     "text": [
      "Model With MR= 0.4  : |||||||||||||||||done\n",
      "Model With MR= 0.4  : |||||||||||||||||done\n",
      "Model With MR= 0.4  : |||||||||||||||||||||||done\n",
      "Model With MR= 0.4  : ||||||||||||||||||||||done\n",
      "Model With MR= 0.4  : |||||||||||||||||||||||||done\n",
      "Model With MR= 0.4  : |||||||||||||||||||||||done\n",
      "Model With MR= 0.4  : |||||||||||||||||||||done\n",
      "Model With MR= 0.4  : ||||||||||||||||||||||||||||||||||||done\n",
      "Model With MR= 0.4  : ||||||||||||||||||||||||||||done\n",
      "Model With MR= 0.4  : ||||||||||||||||done\n"
     ]
    }
   ],
   "source": [
    "Perc40Result = []\n",
    "for i in range(10):\n",
    "    Perc40Result.append(em(0.4))"
   ]
  },
  {
   "cell_type": "markdown",
   "metadata": {},
   "source": [
    "#### 3.2 MR = 0.3"
   ]
  },
  {
   "cell_type": "code",
   "execution_count": 612,
   "metadata": {},
   "outputs": [
    {
     "name": "stdout",
     "output_type": "stream",
     "text": [
      "Model With MR= 0.3  : ||||||||||done\n",
      "Model With MR= 0.3  : ||||||||||done\n",
      "Model With MR= 0.3  : ||||||||||||done\n",
      "Model With MR= 0.3  : ||||||||||||done\n",
      "Model With MR= 0.3  : |||||||||done\n",
      "Model With MR= 0.3  : ||||||||done\n",
      "Model With MR= 0.3  : ||||||||||done\n",
      "Model With MR= 0.3  : |||||||||||done\n",
      "Model With MR= 0.3  : ||||||||||||done\n",
      "Model With MR= 0.3  : ||||||||done\n"
     ]
    }
   ],
   "source": [
    "Perc30Result = []\n",
    "for i in range(10):\n",
    "    Perc30Result.append(em(0.3))"
   ]
  },
  {
   "cell_type": "markdown",
   "metadata": {},
   "source": [
    "#### 3.3 MR = 0.2"
   ]
  },
  {
   "cell_type": "code",
   "execution_count": 644,
   "metadata": {},
   "outputs": [
    {
     "name": "stdout",
     "output_type": "stream",
     "text": [
      "Model With MR= 0.2  : ||||||done\n",
      "Model With MR= 0.2  : |||||||done\n",
      "Model With MR= 0.2  : ||||||done\n",
      "Model With MR= 0.2  : |||||||done\n",
      "Model With MR= 0.2  : ||||||done\n",
      "Model With MR= 0.2  : ||||||done\n",
      "Model With MR= 0.2  : |||||||done\n",
      "Model With MR= 0.2  : |||||||done\n",
      "Model With MR= 0.2  : |||||||done\n",
      "Model With MR= 0.2  : |||||||done\n"
     ]
    }
   ],
   "source": [
    "Perc20Result = []\n",
    "for i in range(10):\n",
    "    Perc20Result.append(em(0.2))"
   ]
  },
  {
   "cell_type": "markdown",
   "metadata": {},
   "source": [
    "#### 3.4 MR = 0.1"
   ]
  },
  {
   "cell_type": "code",
   "execution_count": 643,
   "metadata": {},
   "outputs": [
    {
     "name": "stdout",
     "output_type": "stream",
     "text": [
      "Model With MR= 0.1  : |||done\n",
      "Model With MR= 0.1  : |||done\n",
      "Model With MR= 0.1  : |||done\n",
      "Model With MR= 0.1  : |||done\n",
      "Model With MR= 0.1  : |||done\n",
      "Model With MR= 0.1  : |||done\n",
      "Model With MR= 0.1  : |||done\n",
      "Model With MR= 0.1  : |||done\n",
      "Model With MR= 0.1  : |||done\n",
      "Model With MR= 0.1  : |||done\n"
     ]
    }
   ],
   "source": [
    "Perc10Result = []\n",
    "for i in range(10):\n",
    "    Perc10Result.append(em(0.1))"
   ]
  },
  {
   "cell_type": "markdown",
   "metadata": {},
   "source": [
    "#### 3.5 MR = 0.05"
   ]
  },
  {
   "cell_type": "code",
   "execution_count": 656,
   "metadata": {},
   "outputs": [
    {
     "name": "stdout",
     "output_type": "stream",
     "text": [
      "Model With MR= 0.05  : ||done!\n",
      "Model With MR= 0.05  : ||done!\n",
      "Model With MR= 0.05  : ||done!\n",
      "Model With MR= 0.05  : ||done!\n",
      "Model With MR= 0.05  : ||done!\n",
      "Model With MR= 0.05  : ||done!\n",
      "Model With MR= 0.05  : ||done!\n",
      "Model With MR= 0.05  : ||done!\n",
      "Model With MR= 0.05  : ||done!\n",
      "Model With MR= 0.05  : ||done!\n"
     ]
    }
   ],
   "source": [
    "Perc5Result = []\n",
    "for i in range(10):\n",
    "    Perc5Result.append(em(0.05))"
   ]
  },
  {
   "cell_type": "markdown",
   "metadata": {},
   "source": [
    "## 4. Report"
   ]
  },
  {
   "cell_type": "code",
   "execution_count": 706,
   "metadata": {},
   "outputs": [],
   "source": [
    "def Mu_err(pre_Mu, real_Mu):\n",
    "    mu = np.array([0, 1, 2,4,8,10,20,50,80,100])\n",
    "    return np.linalg.norm(real_Mu-pre_Mu,2)/np.linalg.norm(real_Mu,2)\n",
    "#     return np.linalg.norm(mu-pre_Mu,2)/np.linalg.norm(mu,2)\n",
    "\n",
    "def Sigma_err(pre_Sigma, real_Sigma):\n",
    "    Sigma_=np.array([[10,4,8,4,10,4,4,0,6,8],\n",
    "                    [ 4,6,2,4,6,4,4,2,2,4],\n",
    "                    [ 8,2,10,4,10,6,2,0,4,8],\n",
    "                    [ 4,4,4,8,6,8,4,4,2,6],\n",
    "                    [10,6,10,6,18,10,8,4,8,12],\n",
    "                    [ 4,4,6,8,10,12,6,6,4,8],\n",
    "                    [ 4,4,2,4, 8, 6,8,4,6,4],\n",
    "                    [ 0,2,0,4, 4, 6,4,6,2,2],\n",
    "                    [ 6,2,4,2, 8, 4,6,2,8,4],\n",
    "                    [ 8,4,8,6, 12,8,4,2,4,14]])\n",
    "    return np.linalg.norm(real_Sigma-pre_Sigma,2)/np.linalg.norm(real_Sigma,2)\n",
    "#     return np.linalg.norm(Sigma_-pre_Sigma,2)/np.linalg.norm(Sigma_,2)\n",
    "\n",
    "def Reporter(ResultsList, MRList=[0.4, 0.3, 0.2, 0.1, 0.05]):\n",
    "    print('\\t\\tMu err Mean   \\t\\tMu err Std    \\t\\tSigma err Mean\\t\\tSigma err Std ')\n",
    "    for resultIndex in range(len(ResultsList)):\n",
    "        resTmp = ResultsList[resultIndex]\n",
    "        MuErrs = [Mu_err(ele[0],ele[4]) for ele in resTmp]\n",
    "        SigErrs = [Sigma_err(ele[1],ele[5]) for ele in resTmp]\n",
    "        print(\"MR=\",MRList[resultIndex],\":\\t\",round(np.mean(MuErrs),4),'\\t\\t',round(np.std(MuErrs),5),'     ','\\t\\t',round(np.mean(SigErrs),5),'\\t\\t',round(np.std(SigErrs),5))\n",
    "        "
   ]
  },
  {
   "cell_type": "code",
   "execution_count": 707,
   "metadata": {},
   "outputs": [
    {
     "name": "stdout",
     "output_type": "stream",
     "text": [
      "\t\tMu err Mean   \t\tMu err Std    \t\tSigma err Mean\t\tSigma err Std \n",
      "MR= 0.4 :\t 0.0006 \t\t 0.00019       \t\t 0.01097 \t\t 0.00212\n",
      "MR= 0.3 :\t 0.0004 \t\t 8e-05       \t\t 0.00922 \t\t 0.00159\n",
      "MR= 0.2 :\t 0.0002 \t\t 7e-05       \t\t 0.00684 \t\t 0.00155\n",
      "MR= 0.1 :\t 0.0001 \t\t 4e-05       \t\t 0.00351 \t\t 0.00091\n",
      "MR= 0.05 :\t 0.0001 \t\t 2e-05       \t\t 0.00203 \t\t 0.0005\n"
     ]
    }
   ],
   "source": [
    "Reporter([Perc40Result,Perc30Result,Perc20Result,Perc10Result,Perc5Result])"
   ]
  },
  {
   "cell_type": "code",
   "execution_count": 708,
   "metadata": {},
   "outputs": [],
   "source": [
    "M_M = [np.mean([Mu_err(ele[0],ele[4]) for ele in ele2]) for ele2 in [Perc40Result,Perc30Result,Perc20Result,Perc10Result,Perc5Result]]\n",
    "M_S = [np.std([Mu_err(ele[0],ele[4]) for ele in ele2]) for ele2 in [Perc40Result,Perc30Result,Perc20Result,Perc10Result,Perc5Result]]\n",
    "S_M = [np.mean([Sigma_err(ele[1],ele[5]) for ele in ele2]) for ele2 in [Perc40Result,Perc30Result,Perc20Result,Perc10Result,Perc5Result]]\n",
    "S_S = [np.std([Sigma_err(ele[1],ele[5]) for ele in ele2]) for ele2 in [Perc40Result,Perc30Result,Perc20Result,Perc10Result,Perc5Result]]\n",
    "MR = [0.4, 0.3, 0.2, 0.1, 0.05]\n"
   ]
  },
  {
   "cell_type": "code",
   "execution_count": 709,
   "metadata": {},
   "outputs": [
    {
     "data": {
      "image/png": "[encoded data removed]",
      "text/plain": [
       "<Figure size 432x288 with 1 Axes>"
      ]
     },
     "metadata": {
      "needs_background": "light"
     },
     "output_type": "display_data"
    }
   ],
   "source": [
    "for i in range(len(M_M)):\n",
    "    plt.errorbar(MR[i],M_M[i],M_S[i],fmt='-o',color='#4169E1')\n",
    "plt.xlim(0,0.45)\n",
    "plt.xlabel('Missing Rate')\n",
    "# plt.ylim(0,0.008)\n",
    "plt.ylabel('Mean Error')\n",
    "plt.title('Mean and Std of The Relative Errors of μ')\n",
    "plt.grid()\n",
    "plt.show()"
   ]
  },
  {
   "cell_type": "code",
   "execution_count": 710,
   "metadata": {},
   "outputs": [
    {
     "data": {
      "image/png": "[encoded data removed]",
      "text/plain": [
       "<Figure size 432x288 with 1 Axes>"
      ]
     },
     "metadata": {
      "needs_background": "light"
     },
     "output_type": "display_data"
    }
   ],
   "source": [
    "for i in range(len(S_M)):\n",
    "    plt.errorbar(MR[i],S_M[i],S_S[i],fmt='-o',color='#4169E1')\n",
    "# plt.xlim(0,0.45)\n",
    "plt.xlabel('Missing Rate')\n",
    "plt.ylim(0,0.015)\n",
    "plt.ylabel('Mean Error')\n",
    "plt.title('Mean and Std of The Relative Errors of Σ')\n",
    "plt.grid()\n",
    "plt.show()"
   ]
  },
  {
   "cell_type": "code",
   "execution_count": 711,
   "metadata": {},
   "outputs": [
    {
     "data": {
      "image/png": "[encoded data removed]",
      "text/plain": [
       "<Figure size 432x288 with 1 Axes>"
      ]
     },
     "metadata": {
      "needs_background": "light"
     },
     "output_type": "display_data"
    }
   ],
   "source": [
    "plt.plot(Perc40Result[3][2])\n",
    "plt.title('Training Process')\n",
    "plt.ylabel('Real Error')\n",
    "plt.xlabel('Iteration#')\n",
    "plt.show()"
   ]
  }
 ],
 "metadata": {
  "kernelspec": {
   "display_name": "Python 3",
   "language": "python",
   "name": "python3"
  },
  "language_info": {
   "codemirror_mode": {
    "name": "ipython",
    "version": 3
   },
   "file_extension": ".py",
   "mimetype": "text/x-python",
   "name": "python",
   "nbconvert_exporter": "python",
   "pygments_lexer": "ipython3",
   "version": "3.7.4"
  }
 },
 "nbformat": 4,
 "nbformat_minor": 2
}
