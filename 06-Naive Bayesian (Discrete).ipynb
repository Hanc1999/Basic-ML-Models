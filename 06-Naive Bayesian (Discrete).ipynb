{
 "cells": [
  {
   "cell_type": "code",
   "execution_count": 1,
   "metadata": {},
   "outputs": [],
   "source": [
    "# Import necessary packages:\n",
    "from scipy import io\n",
    "import pandas as pd\n",
    "import numpy as np\n",
    "from sklearn import preprocessing\n",
    "import matplotlib.pyplot as plt\n",
    "from scipy import stats"
   ]
  },
  {
   "cell_type": "code",
   "execution_count": 2,
   "metadata": {},
   "outputs": [],
   "source": [
    "# Data reading function:\n",
    "def read_spam_data():\n",
    "    raw_data = io.loadmat('/Users/shiyimin/Desktop/Grade3/CSC4020/hw2program/spamData.mat')\n",
    "    # struct of raw_data is a dictionary:{'Xtrain':{}, 'ytrain':{}, 'Xtest':{}, 'ytest':{}}\n",
    "    train_data = (raw_data['Xtrain'],raw_data['ytrain'])\n",
    "    test_data = (raw_data['Xtest'],raw_data['ytest'])\n",
    "    return train_data, test_data"
   ]
  },
  {
   "cell_type": "code",
   "execution_count": 3,
   "metadata": {},
   "outputs": [
    {
     "name": "stdout",
     "output_type": "stream",
     "text": [
      "Xtrain.shape: \t (3065, 57)\n",
      "ytrain.shape: \t (3065, 1)\n",
      "Xtest.shape: \t (1536, 57)\n",
      "ytest.shape: \t (1536, 1)\n"
     ]
    }
   ],
   "source": [
    "# Declare objects in np.matrix data type to store the data\n",
    "train_data, test_data = read_spam_data()\n",
    "Xtrain = np.matrix(train_data[0])\n",
    "ytrain = np.matrix(train_data[1])\n",
    "Xtest = np.matrix(test_data[0])\n",
    "ytest = np.matrix(test_data[1])\n",
    "# data shape discovery:\n",
    "print('Xtrain.shape: \\t',Xtrain.shape)\n",
    "print('ytrain.shape: \\t',ytrain.shape)\n",
    "print('Xtest.shape: \\t',Xtest.shape)\n",
    "print('ytest.shape: \\t',ytest.shape)"
   ]
  },
  {
   "cell_type": "markdown",
   "metadata": {},
   "source": [
    "We find the 3065 samples in traning set and 1536 samples in test set while each sample has 57 features."
   ]
  },
  {
   "cell_type": "code",
   "execution_count": 6,
   "metadata": {},
   "outputs": [],
   "source": [
    "# Data transformation functions\n",
    "# function1: log\n",
    "def transform_log(x):\n",
    "    return np.log(x + 0.1)\n",
    "\n",
    "# function2: binary\n",
    "def transform_binary(x):\n",
    "    # return 1 in int 32 when x>0\n",
    "    return (x > 0).astype(np.int32)\n",
    "\n",
    "# function3: standardlize\n",
    "def transform_standard(x):\n",
    "    return preprocessing.scale(x, axis=0)\n",
    "\n",
    "# encapsulation\n",
    "transform_functions = [transform_log,transform_binary,transform_standard]"
   ]
  },
  {
   "cell_type": "markdown",
   "metadata": {},
   "source": [
    "Then for each version of the data,implement spam classiﬁcation using logistic regression and naive Bayes method, respectively."
   ]
  },
  {
   "cell_type": "code",
   "execution_count": 7,
   "metadata": {},
   "outputs": [],
   "source": [
    "# Fix the random seed for debug\n",
    "np.random.seed(0)"
   ]
  },
  {
   "cell_type": "markdown",
   "metadata": {},
   "source": [
    "For 8.2:\n",
    "1. We construct the BinaryNaiveBayes Class whose input is binary discrete dataset."
   ]
  },
  {
   "cell_type": "code",
   "execution_count": 9,
   "metadata": {},
   "outputs": [
    {
     "name": "stdout",
     "output_type": "stream",
     "text": [
      "The accuracy for binary is: 0.8899739583333334\n",
      "The error rate for binary is: 0.11002604166666663\n"
     ]
    }
   ],
   "source": [
    "class BinaryNaiveBayes:\n",
    "    \n",
    "    # data field:\n",
    "    Xtrain = np.matrix([])\n",
    "    ytrain = np.matrix([])\n",
    "    Xtest = np.matrix([])\n",
    "    ytest = np.matrix([])\n",
    "    W = np.matrix([])\n",
    "    N_pos = 0\n",
    "    N_neg = 0\n",
    "    N = 0\n",
    "    \n",
    "    \n",
    "    def __init__(self, Xtrain, ytrain, Xtest, ytest, trans_f):\n",
    "        self.Xtrain = np.matrix(trans_f(Xtrain))\n",
    "        self.ytrain = ytrain.copy()\n",
    "        self.Xtest = np.matrix(trans_f(Xtest))\n",
    "        self.ytest = ytest.copy()\n",
    "        \n",
    "    def train(self):\n",
    "        W_buffer = np.zeros([2,self.Xtrain.shape[1]])\n",
    "        Xtrain_pos = self.Xtrain[np.array(ytrain==1).squeeze()]\n",
    "        Xtrain_neg = self.Xtrain[np.array(ytrain==0).squeeze()]\n",
    "        for i in range(int(Xtrain_pos.shape[0])):\n",
    "            for d in range(int(Xtrain_pos.shape[1])):\n",
    "                W_buffer[0][d] += Xtrain_pos[i,d]\n",
    "        for j in range(int(Xtrain_neg.shape[0])):\n",
    "            for d in range(int(Xtrain_neg.shape[1])):\n",
    "                W_buffer[1][d] += Xtrain_neg[j,d]\n",
    "        W_buffer[0] /=  Xtrain_pos.shape[0]\n",
    "        W_buffer[1] /=  Xtrain_neg.shape[0]\n",
    "        self.W = W_buffer\n",
    "        self.N_pos = Xtrain_pos.shape[0]\n",
    "        self.N_neg = Xtrain_neg.shape[0]\n",
    "        self.N = Xtrain.shape[0]\n",
    "    \n",
    "    def single_forward(self, x):\n",
    "        P_Class_pos = 0.0;\n",
    "        P_Class_neg = 0.0;\n",
    "        # firstly calculate the naive P(Class = 1| x) ~ P(x|1)*P(1)\n",
    "        P_pos = self.N_pos/self.N\n",
    "        P_x_when_pos = 1\n",
    "        for d in range(x.shape[1]):\n",
    "            P_x_when_pos *= self.W[0,d]**x[0,d]*(1-self.W[0,d])**(1-x[0,d])\n",
    "        P_Class_pos = P_pos*P_x_when_pos\n",
    "        # then calculate the naive P(Class = 0| x) ~ P(x|0)*P(0)\n",
    "        P_neg = self.N_neg/self.N\n",
    "        P_x_when_neg = 1\n",
    "        for d in range(x.shape[1]):\n",
    "            P_x_when_neg *= self.W[1,d]**x[0,d]*(1-self.W[1,d])**(1-x[0,d])\n",
    "        P_Class_neg = P_neg*P_x_when_neg\n",
    "        return int(P_Class_pos>P_Class_neg)\n",
    "            \n",
    "    def forward(self, X):\n",
    "        y_ = np.zeros(X.shape[0])\n",
    "        for i in range(y_.shape[0]):\n",
    "            y_[i] = self.single_forward(X[i])\n",
    "        return y_\n",
    "    \n",
    "    def test(self):\n",
    "        y_ = self.forward(self.Xtest)\n",
    "        correct_count = 0\n",
    "        for i in range(len(self.ytest)):\n",
    "            if y_[i] == self.ytest[i]: \n",
    "                correct_count += 1\n",
    "        return correct_count/len(y_)\n",
    "        \n",
    "    \n",
    "# Train with Xtrain,ytrain and test with Xtest,ytest\n",
    "b = BinaryNaiveBayes(Xtrain, ytrain, Xtest, ytest, transform_functions[1])\n",
    "b.train()\n",
    "accuracy = b.test()\n",
    "print('The accuracy for binary is:',str(accuracy))\n",
    "print('The error rate for binary is:',str(1-accuracy))"
   ]
  },
  {
   "cell_type": "code",
   "execution_count": null,
   "metadata": {},
   "outputs": [],
   "source": []
  }
 ],
 "metadata": {
  "kernelspec": {
   "display_name": "Python 3",
   "language": "python",
   "name": "python3"
  },
  "language_info": {
   "codemirror_mode": {
    "name": "ipython",
    "version": 3
   },
   "file_extension": ".py",
   "mimetype": "text/x-python",
   "name": "python",
   "nbconvert_exporter": "python",
   "pygments_lexer": "ipython3",
   "version": "3.7.4"
  }
 },
 "nbformat": 4,
 "nbformat_minor": 2
}
