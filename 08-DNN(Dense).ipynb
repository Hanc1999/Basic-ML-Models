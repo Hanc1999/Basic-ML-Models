{
 "cells": [
  {
   "cell_type": "code",
   "execution_count": 1,
   "metadata": {
    "scrolled": true
   },
   "outputs": [],
   "source": [
    "import pandas as pd\n",
    "import numpy as np\n",
    "import matplotlib.pyplot as plt\n",
    "import time"
   ]
  },
  {
   "cell_type": "code",
   "execution_count": 2,
   "metadata": {},
   "outputs": [],
   "source": [
    "data = pd.read_pickle('./DataSets/mnist.pkl')"
   ]
  },
  {
   "cell_type": "code",
   "execution_count": 3,
   "metadata": {},
   "outputs": [
    {
     "name": "stdout",
     "output_type": "stream",
     "text": [
      "The original 1-channel image looks like:\n"
     ]
    },
    {
     "data": {
      "image/png": "[encoded data removed]",
      "text/plain": [
       "<Figure size 432x288 with 1 Axes>"
      ]
     },
     "metadata": {
      "needs_background": "light"
     },
     "output_type": "display_data"
    }
   ],
   "source": [
    "print('The original 1-channel image looks like:')\n",
    "plt.imshow(np.array(data[0][0])[0].reshape(28,28))\n",
    "plt.show()"
   ]
  },
  {
   "cell_type": "code",
   "execution_count": 4,
   "metadata": {},
   "outputs": [
    {
     "name": "stdout",
     "output_type": "stream",
     "text": [
      "label: 5\n"
     ]
    }
   ],
   "source": [
    "print('label:',data[0][1][0])"
   ]
  },
  {
   "cell_type": "markdown",
   "metadata": {},
   "source": [
    "### Forward Propagation Process Functions"
   ]
  },
  {
   "cell_type": "code",
   "execution_count": 5,
   "metadata": {},
   "outputs": [],
   "source": [
    "# initialize weights\n",
    "def initWeights(layersSizeList): # when len(input) = k, then return (k-1) Ws and (k-1) bs\n",
    "    np.random.seed(0)\n",
    "    Ws = []\n",
    "    bs = []\n",
    "    for i in range(len(layersSizeList)-1):\n",
    "        W = np.random.randn(layersSizeList[i+1], layersSizeList[i])*np.sqrt(2/layersSizeList[i])\n",
    "        b = np.random.randn(layersSizeList[i+1],1)\n",
    "        Ws.append(W)\n",
    "        bs.append(b)\n",
    "    return [Ws,bs]\n",
    "\n",
    "# single layer forward\n",
    "def singleForward(prevA, W, b):\n",
    "    Z = W.dot(prevA)+b.dot(np.ones(prevA.shape[1]).reshape(prevA.shape[1],1).T)\n",
    "    cache = [prevA, W, b]\n",
    "    return [Z,cache]\n",
    "\n",
    "# single forward with different configurable active functions\n",
    "def actSigmoid(Z):\n",
    "    Z_safe = np.clip(Z, -500, 500)\n",
    "    return [1/(1+np.exp(-Z_safe)),Z]\n",
    "\n",
    "def actRelu(Z):\n",
    "    Z_ = Z.copy()\n",
    "    Z_[Z_<0] = 0\n",
    "    return [Z_,Z]\n",
    "\n",
    "def actSoftMax(Z):\n",
    "    Z_ = np.clip(Z,-500,1000)\n",
    "    return [np.exp(Z_)/(np.sum(np.exp(Z_),axis=0)), Z]\n",
    "\n",
    "def actTanh(Z):\n",
    "    A = np.tanh(Z)\n",
    "    return [A, Z]\n",
    "\n",
    "# do a single forward propagation for a single dense layer\n",
    "def actForward(prevA, W, b, act_f):\n",
    "    [Z, cache] = singleForward(prevA, W, b)\n",
    "    if act_f==0:\n",
    "        # do relu\n",
    "        [A, actCache] = actRelu(Z)\n",
    "        Caches = [cache, actCache] #Caches = [[prevA, W, b],Z]\n",
    "        return [A, Caches]\n",
    "    elif act_f == 1:\n",
    "        # do sigmoid\n",
    "        [A,actCache] = actSigmoid(Z)\n",
    "        Caches = [cache, actCache]\n",
    "        return [A,Caches]\n",
    "    elif act_f == 2:\n",
    "        # do tanh\n",
    "        [A,actCache] = actTanh(Z)\n",
    "        Caches = [cache, actCache]\n",
    "        return [A,Caches]\n",
    "    elif act_f == 3:\n",
    "        # do softmax\n",
    "        [A,actCache] = actSoftMax(Z)\n",
    "        Caches = [cache, actCache]\n",
    "        return [A,Caches]\n",
    "    elif act_f == 4:\n",
    "        actCache = Z.copy()\n",
    "        A = Z.copy()\n",
    "        Caches = [cache, actCache]\n",
    "        return [A, Caches]\n",
    "\n",
    "# forward propagation for a multiple levels dense model\n",
    "def layersForward(batchX, weights, layersSizeList, act_f, loss):\n",
    "    L = len(layersSizeList)\n",
    "    X = batchX.copy()\n",
    "    layersCaches = []\n",
    "    for i in range(0,L-2):\n",
    "        A_prev = X\n",
    "        [A, Caches] = actForward(A_prev, weights[0][i], weights[1][i], act_f)\n",
    "        X = A\n",
    "        layersCaches.append(Caches)  #Caches = [linearcache, actCache]\n",
    "    # last layer:\n",
    "    AL = np.array([])\n",
    "#     print(len(layersCaches))\n",
    "    if loss == 0:\n",
    "        [AL, Caches] = actForward(X, weights[0][L-2], weights[1][L-2], 3)\n",
    "        layersCaches.append(Caches)\n",
    "    elif loss == 1:\n",
    "        [AL, Caches] = actForward(X, weights[0][L-2], weights[1][L-2], 4)\n",
    "        layersCaches.append(Caches)\n",
    "#     print(len(layersCaches))\n",
    "    return [AL, layersCaches]\n",
    "\n",
    "# available loss functions: MSE, Cross-Entropy, Cross-Entropy-with-Regular\n",
    "def MSEloss(AL, Y):\n",
    "    m = len(Y)   # m for batch size\n",
    "    # least square:\n",
    "    loss = 0\n",
    "    for i in range(m):\n",
    "        singleLoss = 0\n",
    "        singleLabel = int(Y[i])\n",
    "        singleResult = AL[:,i]\n",
    "#         print(singleResult, singleLabel)\n",
    "        for j in range(AL.shape[0]):\n",
    "            if j == singleLabel: \n",
    "                singleLoss += (singleResult[j]-1)**2\n",
    "            else: \n",
    "                singleLoss += (singleResult[j])**2\n",
    "#         print(singleLoss)\n",
    "        loss += singleLoss\n",
    "    loss = 1/m*loss\n",
    "    return loss\n",
    "\n",
    "def CrossEntropyLoss(AL, Y):\n",
    "    m = len(Y)\n",
    "    loss = 0\n",
    "    for i in range(m):\n",
    "        singleLoss = 0\n",
    "        singleLabel = int(Y[i])\n",
    "        singleResult = AL[:,i]\n",
    "        for j in range(AL.shape[0]):\n",
    "            if j == singleLabel:\n",
    "                loss += np.log(singleResult[j]+1e-5)\n",
    "    loss = 1/m * (-1) * loss\n",
    "    return loss\n",
    "\n",
    "def CrossEntropyLossWithRegular(AL, Y, W1, W2, W3):\n",
    "    m = len(Y)\n",
    "    loss = 0\n",
    "    for i in range(m):\n",
    "        singleLoss = 0\n",
    "        singleLabel = int(Y[i])\n",
    "        singleResult = AL[:,i]\n",
    "        for j in range(AL.shape[0]):\n",
    "            if j == singleLabel:\n",
    "                loss += np.log(singleResult[j]+1e-5)\n",
    "    loss = 1/m * (-1) * loss\n",
    "    loss += np.sum(W1*W1)\n",
    "    loss += np.sum(W2*W2)\n",
    "    loss += np.sum(W3*W3)\n",
    "    return loss"
   ]
  },
  {
   "cell_type": "markdown",
   "metadata": {},
   "source": [
    "### Backward Propagation Process Functions"
   ]
  },
  {
   "cell_type": "code",
   "execution_count": 6,
   "metadata": {},
   "outputs": [],
   "source": [
    "# linear backward function for different act-layers or dense layers\n",
    "def singleBackward(dZ, cahce):\n",
    "    # decode\n",
    "    [prevA, W, b] = cahce\n",
    "    m = prevA.shape[1]\n",
    "#     print('dZ',dZ)\n",
    "    dW = 1/m*dZ.dot(prevA.T)\n",
    "    db = 1/m*np.sum(dZ, axis=1)\n",
    "    db = db.reshape(db.shape[0],1)\n",
    "#     print('db.shape:',db.shape)\n",
    "    dprevA = W.T.dot(dZ)\n",
    "    return [dprevA, dW, db]\n",
    "\n",
    "# backward with active functions\n",
    "def sigmoidBackward(dA, Z):\n",
    "    A = actSigmoid(Z)[0]\n",
    "    Z_ = np.multiply(A,(np.ones_like(A)-A))\n",
    "    dZ = np.multiply(dA,Z_)\n",
    "    return dZ\n",
    "    \n",
    "def reluBackward(dA, Z):\n",
    "    Z_ = Z.copy()\n",
    "    Z_[Z_<0]=0\n",
    "    Z_[Z_!=0]=1\n",
    "    dZ = np.multiply(dA,Z_)\n",
    "    return dZ\n",
    "\n",
    "def tanhBackward(dA, Z):\n",
    "    A = actTanh(Z)[0]\n",
    "    Z_ = np.ones_like(A) - A*A\n",
    "    dZ = np.multiply(dA,Z_)\n",
    "    return dZ\n",
    "\n",
    "def softMaxAndCrossEntropyBackward(Z, Y):\n",
    "    res = []\n",
    "    for i in range(Z.shape[1]):\n",
    "        yi = []\n",
    "        singleLabel = int(Y[i])\n",
    "        for j in range(Z.shape[0]):\n",
    "            if j == singleLabel: \n",
    "                yi.append(1)\n",
    "            else:\n",
    "                yi.append(0)\n",
    "        yi = np.array(yi)\n",
    "        ai = np.array(np.squeeze(Z[:,i]))\n",
    "        pi = actSoftMax(ai)[0]\n",
    "        res.append(np.squeeze(pi-yi))\n",
    "    dZ = np.array(res).T\n",
    "    return dZ\n",
    "\n",
    "def identityAndMSEBackward(Z, Y):\n",
    "    res = []\n",
    "    for i in range(Z.shape[1]):\n",
    "        yi = []\n",
    "        singleLabel = int(Y[i])\n",
    "        for j in range(Z.shape[0]):\n",
    "            if j == singleLabel: \n",
    "                yi.append(1)\n",
    "            else:\n",
    "                yi.append(0)\n",
    "        yi = np.array(yi)\n",
    "        ai = np.array(np.squeeze(Z[:,i]))\n",
    "        res.append(np.squeeze(ai-yi))\n",
    "    dZ = np.array(res).T\n",
    "    return dZ\n",
    "\n",
    "def actBackward(dA, cache, act_f):\n",
    "    # cache = [linearCache, actCache] where linearCache = [prevA, W, b], actCache = Z\n",
    "    [linearCache, actCache] = cache\n",
    "    dZ = np.array([])\n",
    "    if act_f == 0:\n",
    "        # do relu back\n",
    "        dZ = reluBackward(dA, actCache)\n",
    "    elif act_f == 1:\n",
    "        # do sigmoid back\n",
    "        dZ = sigmoidBackward(dA, actCache)\n",
    "    elif act_f == 2:\n",
    "        dZ = tanhBackward(dA, actCache)\n",
    "    [dprevA, dW, db] = singleBackward(dZ, linearCache)\n",
    "    return [dprevA, dW, db]\n",
    "\n",
    "# multiple levels backward model\n",
    "def layersBackward(AL, Y, layersCaches, act_f, loss):\n",
    "    # layersCaches = [[[prevA, W, b](linear),Z(act)](layer1),..]\n",
    "    gradients = []\n",
    "    [lastLinearCache, lastActCache] = layersCaches.pop()\n",
    "    dZlast = np.array([])\n",
    "    if loss == 0:\n",
    "        dZlast = softMaxAndCrossEntropyBackward(lastActCache, Y)\n",
    "    elif loss == 1:\n",
    "        dZlast = identityAndMSEBackward(lastActCache, Y)\n",
    "#         print(dZlast)\n",
    "    [dprevALast, dWLast, dbLast] = singleBackward(dZlast, lastLinearCache)\n",
    "    gradients.append([dWLast, dbLast])\n",
    "    dA_prev = dprevALast\n",
    "    for i in range(len(layersCaches)):\n",
    "        Caches = layersCaches.pop()\n",
    "        [dprevAthis, dW, db] = actBackward(dA_prev, Caches, act_f)\n",
    "        dA_prev = dprevAthis\n",
    "        gradients.append([dW, db])\n",
    "    return gradients\n",
    "\n",
    "def regularTuningGradient(lamda, W):\n",
    "    res = []\n",
    "    for i in range(W.shape[1]):\n",
    "        singleVector = W[:,i]\n",
    "        res.append(singleVector)\n",
    "    return np.array(res).T"
   ]
  },
  {
   "cell_type": "markdown",
   "metadata": {},
   "source": [
    "### Validate Function"
   ]
  },
  {
   "cell_type": "code",
   "execution_count": 8,
   "metadata": {},
   "outputs": [],
   "source": [
    "# validation function applied in validation dataset\n",
    "def test(dataset, labels, weights, layersSizeList, act_f, loss):\n",
    "    count = 0\n",
    "    for dataPointIndex in range(len(dataset)):\n",
    "        dataPoint = dataset[dataPointIndex]\n",
    "        [AL, _] = layersForward(dataPoint.reshape(dataPoint.shape[0],1), weights, layersSizeList, act_f, loss)\n",
    "        if np.argmax(AL)== int(labels[dataPointIndex]):\n",
    "            count+=1\n",
    "    return count/len(dataset)"
   ]
  },
  {
   "cell_type": "markdown",
   "metadata": {},
   "source": [
    "### Training Function"
   ]
  },
  {
   "cell_type": "code",
   "execution_count": 9,
   "metadata": {},
   "outputs": [],
   "source": [
    "def batchTrain(X, Y, weights, layersSizeList, act_f, loss):\n",
    "    [AL, layersCaches] = layersForward(X, weights, layersSizeList,act_f, loss)\n",
    "#     print(AL.shape)\n",
    "    if loss == 0:\n",
    "        loss_ = CrossEntropyLoss(AL, Y)\n",
    "    elif loss == 1:\n",
    "        loss_ = MSEloss(AL, Y)\n",
    "    gradients = layersBackward(AL, Y, layersCaches, act_f, loss)\n",
    "    return [loss_, gradients]\n",
    "\n",
    "def train(dataset, labels, vdataset, vlabels,layersSizeList, learningRate, batchSize, epochNumber, act_f, loss, regu):\n",
    "    weights = initWeights(layersSizeList)\n",
    "    lossHistory = []\n",
    "    accHistory = []\n",
    "    for epoch in range(epochNumber):\n",
    "        batchNumber = len(dataset) // batchSize\n",
    "        lossEpoch = 0\n",
    "        for itr in range(batchNumber):\n",
    "#         for itr in range(40):\n",
    "            Xbatch = np.array(dataset[itr*batchSize:itr*batchSize+batchSize]).T\n",
    "            Ybatch = list(np.array(labels[itr*batchSize:itr*batchSize+batchSize]))\n",
    "            [loss_, gradients] = batchTrain(Xbatch, Ybatch, weights, layersSizeList, act_f, loss)\n",
    "            lossEpoch = float(loss_)\n",
    "            # update weights\n",
    "            for i in range(len(gradients)):\n",
    "                [WGradient, bGradient] = gradients.pop()\n",
    "                weights[0][i] -= learningRate*WGradient\n",
    "                weights[1][i] -= learningRate*bGradient\n",
    "#             if regu == 1:\n",
    "#                 weights[0][i] -= learningRate*regularTuningGradient(0.01, weights[0][i])\n",
    "#                 weights[1][i] -= learningRate*regularTuningGradient(0.01weights[0][i])\n",
    "        lossHistory.append(float(lossEpoch))\n",
    "        accHistory.append(test(vdataset, vlabels, weights, layersSizeList, act_f,loss))\n",
    "        \n",
    "    return lossHistory, accHistory"
   ]
  },
  {
   "cell_type": "code",
   "execution_count": 33,
   "metadata": {},
   "outputs": [],
   "source": [
    "time1 = time.time()\n",
    "his0 = train(data[0][0], data[0][1], data[1][0], data[1][1],  [784, 50, 10], 0.01, 50, 3, 0, 0, 0)\n",
    "time2 = time.time()"
   ]
  },
  {
   "cell_type": "code",
   "execution_count": 34,
   "metadata": {},
   "outputs": [],
   "source": [
    "time3 = time.time()\n",
    "his1 = train(data[0][0], data[0][1], data[1][0], data[1][1],  [784, 50, 10], 0.01, 100, 3, 0, 0, 0)\n",
    "time4 = time.time()"
   ]
  },
  {
   "cell_type": "code",
   "execution_count": 36,
   "metadata": {},
   "outputs": [
    {
     "name": "stdout",
     "output_type": "stream",
     "text": [
      "9.24242377281189\n",
      "8.361682176589966\n"
     ]
    }
   ],
   "source": [
    "print(time2-time1)\n",
    "print(time4-time3)"
   ]
  },
  {
   "cell_type": "code",
   "execution_count": 24,
   "metadata": {},
   "outputs": [
    {
     "data": {
      "image/png": "[encoded data removed]",
      "text/plain": [
       "<Figure size 432x288 with 1 Axes>"
      ]
     },
     "metadata": {
      "needs_background": "light"
     },
     "output_type": "display_data"
    }
   ],
   "source": [
    "# see the loss\n",
    "plt.plot(his0[0],'.--')\n",
    "plt.plot(his1[0],'.--')\n",
    "plt.show()"
   ]
  },
  {
   "cell_type": "code",
   "execution_count": 25,
   "metadata": {},
   "outputs": [
    {
     "data": {
      "image/png": "[encoded data removed]",
      "text/plain": [
       "<Figure size 432x288 with 1 Axes>"
      ]
     },
     "metadata": {
      "needs_background": "light"
     },
     "output_type": "display_data"
    },
    {
     "name": "stdout",
     "output_type": "stream",
     "text": [
      "With 100 neurons, act function: relu,\n",
      "30 epochs, learning rate = 0.1, batch size = 50, \n",
      "1 hidden layer, loss: Cross Entropy,\n",
      "Without regularization\n"
     ]
    }
   ],
   "source": [
    "#plotting different comparisions\n",
    "plt.plot(his0[1],'.--')\n",
    "plt.plot(his1[1],'.--')\n",
    "plt.yticks(np.arange(0.85, 0.96, step=0.05))\n",
    "plt.legend(['1 hidden', '2 hidden'])\n",
    "plt.grid()\n",
    "plt.title('Accuracy with Different # of Hidden Layers')\n",
    "plt.show()\n",
    "print('With 100 neurons, act function: relu,\\n30 epochs, learning rate = 0.1, batch size = 50, \\n1 hidden layer, loss: Cross Entropy,\\nWithout regularization')"
   ]
  }
 ],
 "metadata": {
  "kernelspec": {
   "display_name": "Python 3",
   "language": "python",
   "name": "python3"
  },
  "language_info": {
   "codemirror_mode": {
    "name": "ipython",
    "version": 3
   },
   "file_extension": ".py",
   "mimetype": "text/x-python",
   "name": "python",
   "nbconvert_exporter": "python",
   "pygments_lexer": "ipython3",
   "version": "3.7.4"
  }
 },
 "nbformat": 4,
 "nbformat_minor": 2
}
