{
 "cells": [
  {
   "cell_type": "markdown",
   "metadata": {},
   "source": [
    "\n",
    "## 1. Datasets generation\n",
    "### 1.1 Generate 60*50 dataset matrix\n"
   ]
  },
  {
   "cell_type": "code",
   "execution_count": 1,
   "metadata": {},
   "outputs": [
    {
     "name": "stdout",
     "output_type": "stream",
     "text": [
      "[0. 0. 0. 0. 0. 0. 0. 0. 0. 0. 0. 0. 0. 0. 0. 0. 0. 0. 0. 0. 0. 0. 0. 0.\n",
      " 0. 0. 0. 0. 0. 0. 0. 0. 0. 0. 0. 0. 0. 0. 0. 0. 0. 0. 0. 0. 0. 0. 0. 0.\n",
      " 0. 0. 0. 0. 0. 0. 0. 0. 0. 0. 0. 0.]\n",
      "60\n",
      "number of observations: 60\n",
      "number of features for each observation: 50\n",
      "observations:\n",
      " [[-0.06284225  1.10887859 -1.56364556 ...  2.9734763  -0.27214688\n",
      "  -0.73383729]\n",
      " [-0.5004457   0.92635979 -0.30561032 ... -0.24976494 -0.48577773\n",
      "  -0.71450847]\n",
      " [ 2.27092313  1.05192208  0.41315166 ...  0.62684361  0.8754012\n",
      "  -0.82105893]\n",
      " ...\n",
      " [ 6.22337018  3.33705735  4.78128162 ...  5.04257052  2.86089204\n",
      "   4.1865803 ]\n",
      " [ 6.03256127  4.79621909  3.57225189 ...  3.55925421  2.65694813\n",
      "   4.72921091]\n",
      " [ 4.43373628  5.57526164  4.11643292 ...  5.1014171   4.86003895\n",
      "   2.68850188]]\n",
      "cluster of Observations:\n",
      " [0. 0. 0. 0. 0. 0. 0. 0. 0. 0. 0. 0. 0. 0. 0. 0. 0. 0. 0. 0. 1. 1. 1. 1.\n",
      " 1. 1. 1. 1. 1. 1. 1. 1. 1. 1. 1. 1. 1. 1. 1. 1. 2. 2. 2. 2. 2. 2. 2. 2.\n",
      " 2. 2. 2. 2. 2. 2. 2. 2. 2. 2. 2. 2.]\n"
     ]
    }
   ],
   "source": [
    "import numpy as np\n",
    "import matplotlib.pyplot as plt\n",
    "\n",
    "x1 = np.random.normal(0, 1, size = (20, 50))# 20*50 matrix, which is our raw dataset where 50 is each data's dimension\n",
    "x2 = np.random.normal(2, 1, size = (20, 50))\n",
    "x3 = np.random.normal(4, 1, size = (20, 50))\n",
    "x = np.concatenate([x1, x2], axis = 0)\n",
    "x = np.concatenate([x, x3], axis = 0) #60*50 matrix, sample dataset\n",
    "\n",
    "y = np.zeros(x.shape[0])\n",
    "print(y)\n",
    "print(y.shape[0])\n",
    "for i in range(y.shape[0]):\n",
    "    if i < y.shape[0]/3:\n",
    "        y[i] = 0\n",
    "    elif i >= y.shape[0]/3 and i < y.shape[0]/3*2:\n",
    "        y[i] = 1\n",
    "    else:\n",
    "        y[i] = 2\n",
    "\n",
    "print(\"number of observations:\", x.shape[0])\n",
    "print(\"number of features for each observation:\", x.shape[1])\n",
    "print(\"observations:\\n\", x)\n",
    "print(\"cluster of Observations:\\n\", y)"
   ]
  },
  {
   "cell_type": "markdown",
   "metadata": {},
   "source": [
    "## 2. Principle Component Analysis Process\n",
    "\n",
    "\n"
   ]
  },
  {
   "cell_type": "code",
   "execution_count": null,
   "metadata": {},
   "outputs": [],
   "source": [
    "def pca(x):\n",
    "        v_list = np.mean(x, axis = 0)\n",
    "        removedMean = x - v_list\n",
    "        covariance = np.cov(x, rowvar=0)\n",
    "        eigVals,eigVects = np.linalg.eig(covariance)\n",
    "        #normalization\n",
    "        eigVects = eigVects / np.sum(np.dot(eigVects[0].T, eigVects[0]))\n",
    "        eigValsIndex = np.argsort(eigVals)\n",
    "        eigValsIndex = eigValsIndex[: -3: -1] \n",
    "        v = eigVects[:,eigValsIndex]  \n",
    "        finalData = np.dot(removedMean, v)\n",
    "        return finalData\n",
    "\n",
    "x_pca = pca(x)\n",
    "plt.scatter(x_pca[:, 0], x_pca[:, 1], c=y, s=20)\n",
    "plt.xlabel(\"PC1\")\n",
    "plt.ylabel(\"PC2\")\n",
    "plt.show()"
   ]
  },
  {
   "cell_type": "markdown",
   "metadata": {},
   "source": [
    "## 3. Application: K-means Clustering"
   ]
  },
  {
   "cell_type": "code",
   "execution_count": 3,
   "metadata": {},
   "outputs": [
    {
     "name": "stdout",
     "output_type": "stream",
     "text": [
      "+--------+---------+---------+---------+\n",
      "| # Obs. | true_C1 | true_C2 | true_C3 |\n",
      "+--------+---------+---------+---------+\n",
      "|   C1   |    20   |    1    |    0    |\n",
      "|   C2   |    0    |    12   |    0    |\n",
      "|   C3   |    0    |    7    |    20   |\n",
      "+--------+---------+---------+---------+\n",
      "Accuracy(%):  86.66666666666667\n"
     ]
    }
   ],
   "source": [
    "from prettytable import PrettyTable\n",
    "\n",
    "#re-label the observations\n",
    "def centroid(x, y, K): \n",
    "    c_list = list()\n",
    "    u_list = list()\n",
    "    \n",
    "    for k in range(K):\n",
    "        c_list.append(np.array([x[i] for i in range(row) if y[i][0]==k]))\n",
    "        u_list.append(np.mean(c_list[k], axis = 0))\n",
    "    return u_list\n",
    "\n",
    "#re-label the observations\n",
    "def relabel(x, y, u_list, K):\n",
    "    for i in range(row):\n",
    "        dis_list = list()\n",
    "        for k in range(K):\n",
    "            dis_list.append(np.sum(np.square(x[i]-u_list[k])))\n",
    "        index = dis_list.index(min(dis_list))\n",
    "        y[i][0] = index\n",
    "    return y\n",
    "    \n",
    "#k_mean algorithm \n",
    "def k_mean(x, y, K):\n",
    "    u_list = centroid(x, y, K)\n",
    "    y_ = relabel(x, y, u_list, K)\n",
    "    if (y_==y).all() == False:\n",
    "        k_mean(x, y_, K)\n",
    "    else: \n",
    "        return y\n",
    "    return y_\n",
    "    \n",
    "#set random seed\n",
    "np.random.seed(20)\n",
    "row = x.shape[0]\n",
    "\n",
    "y_kmean_3 = np.random.randint(0, 3, size = (x.shape[0], 1))\n",
    "y_new = k_mean(x, y_kmean_3, 3)\n",
    "\n",
    "for i in range(row):\n",
    "    if y_new[i][0] == 0:\n",
    "        y_new[i][0] = 0\n",
    "    elif y_new[i][0] == 1:\n",
    "        y_new[i][0] = 2\n",
    "    elif y_new[i][0] == 2:\n",
    "        y_new[i][0] = 1\n",
    "\n",
    "#compare the class\n",
    "compare_table = np.zeros((3, 3))\n",
    "\n",
    "for i in range(row):\n",
    "    if y[i] == 0:\n",
    "        if y_new[i][0] == 0:\n",
    "            compare_table[0][0] += 1\n",
    "        elif y_new[i][0] == 1:\n",
    "            compare_table[0][1] += 1\n",
    "        elif y_new[i][0] == 2:\n",
    "            compare_table[0][2] += 1\n",
    "    elif y[i] == 1:\n",
    "        if y_new[i][0] == 0:\n",
    "            compare_table[1][0] += 1\n",
    "        elif y_new[i][0] == 1:\n",
    "            compare_table[1][1] += 1\n",
    "        elif y_new[i][0] == 2:\n",
    "            compare_table[1][2] += 1\n",
    "    elif y[i] == 2:\n",
    "        if y_new[i][0] == 0:\n",
    "            compare_table[2][0] += 1\n",
    "        elif y_new[i][0] == 1:\n",
    "            compare_table[2][1] += 1\n",
    "        elif y_new[i][0] == 2:\n",
    "            compare_table[2][2] += 1\n",
    "         \n",
    "table = PrettyTable([\"# Obs.\", \"true_C1\", \"true_C2\", \"true_C3\"])\n",
    "table.add_row([\"C1\", int(compare_table[0][0]), int(compare_table[1][0]), int(compare_table[2][0])])\n",
    "table.add_row([\"C2\", int(compare_table[0][1]), int(compare_table[1][1]), int(compare_table[2][1])])\n",
    "table.add_row([\"C3\", int(compare_table[0][2]), int(compare_table[1][2]), int(compare_table[2][2])])\n",
    "print(table)\n",
    "\n",
    "#calculate the accuracy\n",
    "correct = compare_table[0][0] + compare_table[1][1] + compare_table[2][2]\n",
    "print(\"Accuracy(%): \",correct/row * 100)"
   ]
  },
  {
   "cell_type": "code",
   "execution_count": null,
   "metadata": {},
   "outputs": [],
   "source": []
  }
 ],
 "metadata": {
  "kernelspec": {
   "display_name": "Python 3",
   "language": "python",
   "name": "python3"
  },
  "language_info": {
   "codemirror_mode": {
    "name": "ipython",
    "version": 3
   },
   "file_extension": ".py",
   "mimetype": "text/x-python",
   "name": "python",
   "nbconvert_exporter": "python",
   "pygments_lexer": "ipython3",
   "version": "3.7.2"
  }
 },
 "nbformat": 4,
 "nbformat_minor": 2
}
